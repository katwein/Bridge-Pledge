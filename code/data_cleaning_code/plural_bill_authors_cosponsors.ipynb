{
  "cells": [
    {
      "cell_type": "markdown",
      "id": "031cf3e6-2ff2-44e8-9cc7-9e9d47ad3297",
      "metadata": {
        "id": "031cf3e6-2ff2-44e8-9cc7-9e9d47ad3297"
      },
      "source": [
        "US_119_bill_sponsorships.csv DOWNLOADED FROM PLURAL\n",
        "\n",
        "THE BELOW IS CODE USED TO PREPROCESS THE FILE AND MATCH THE REPRESENTATIVE WITH THEIR ASSOCIATED BIOGUIDE_ID AND THEN POPULATED THE ASSOCIATED COLUMNS"
      ]
    },
    {
      "cell_type": "code",
      "execution_count": null,
      "id": "c9952851-b775-403e-b298-9c1f5a67b072",
      "metadata": {
        "colab": {
          "base_uri": "https://localhost:8080/"
        },
        "id": "c9952851-b775-403e-b298-9c1f5a67b072",
        "outputId": "9aa08135-e53c-4a98-a703-8bd31ecc9410"
      },
      "outputs": [
        {
          "output_type": "stream",
          "name": "stdout",
          "text": [
            "Mounted at /content/drive\n"
          ]
        }
      ],
      "source": [
        "#connect to google drive\n",
        "from google.colab import drive\n",
        "drive.mount('/content/drive')"
      ]
    },
    {
      "cell_type": "code",
      "execution_count": null,
      "id": "886d1936-13fb-485b-894d-ff6061f05e94",
      "metadata": {
        "colab": {
          "base_uri": "https://localhost:8080/"
        },
        "id": "886d1936-13fb-485b-894d-ff6061f05e94",
        "outputId": "dec91d42-6543-4e10-a725-92c206c7bbeb"
      },
      "outputs": [
        {
          "output_type": "stream",
          "name": "stdout",
          "text": [
            "Collecting rapidfuzz\n",
            "  Downloading rapidfuzz-3.13.0-cp311-cp311-manylinux_2_17_x86_64.manylinux2014_x86_64.whl.metadata (12 kB)\n",
            "Downloading rapidfuzz-3.13.0-cp311-cp311-manylinux_2_17_x86_64.manylinux2014_x86_64.whl (3.1 MB)\n",
            "\u001b[2K   \u001b[90m━━━━━━━━━━━━━━━━━━━━━━━━━━━━━━━━━━━━━━━━\u001b[0m \u001b[32m3.1/3.1 MB\u001b[0m \u001b[31m29.3 MB/s\u001b[0m eta \u001b[36m0:00:00\u001b[0m\n",
            "\u001b[?25hInstalling collected packages: rapidfuzz\n",
            "Successfully installed rapidfuzz-3.13.0\n"
          ]
        }
      ],
      "source": [
        "# Install rapidfuzz\n",
        "!pip install rapidfuzz\n"
      ]
    },
    {
      "cell_type": "code",
      "execution_count": null,
      "id": "55fd58a4-1b98-4b2f-bf05-17f56f9a28b0",
      "metadata": {
        "id": "55fd58a4-1b98-4b2f-bf05-17f56f9a28b0"
      },
      "outputs": [],
      "source": [
        "# Import libraries\n",
        "import pandas as pd\n",
        "from rapidfuzz import process, fuzz\n"
      ]
    },
    {
      "cell_type": "code",
      "execution_count": null,
      "id": "5a2241bb-09e1-4eab-bf48-6746de920678",
      "metadata": {
        "id": "5a2241bb-09e1-4eab-bf48-6746de920678"
      },
      "outputs": [],
      "source": [
        "# Load data\n",
        "sponsorships = pd.read_csv('/content/drive/My Drive/Colab Notebooks/US_119_bill_sponsorships.csv', encoding=\"latin1\")\n",
        "historical = pd.read_csv(\"/content/drive/My Drive/Colab Notebooks/legislators-historical.csv\")\n",
        "current = pd.read_csv(\"/content/drive/My Drive/Colab Notebooks/legislators-current.csv\")\n"
      ]
    },
    {
      "cell_type": "code",
      "execution_count": null,
      "id": "a2d92ba6-334b-426d-aa1f-4ba3197bbb6f",
      "metadata": {
        "id": "a2d92ba6-334b-426d-aa1f-4ba3197bbb6f"
      },
      "outputs": [],
      "source": [
        "# Filter legislators born in 1900 or later\n",
        "historical = historical[pd.to_datetime(historical['birthday'], errors='coerce') >= '1900-01-01']\n",
        "current = current[pd.to_datetime(current['birthday'], errors='coerce') >= '1900-01-01']\n"
      ]
    },
    {
      "cell_type": "code",
      "execution_count": null,
      "id": "df8b5ecb-c682-4736-bb34-e53ab248650b",
      "metadata": {
        "id": "df8b5ecb-c682-4736-bb34-e53ab248650b"
      },
      "outputs": [],
      "source": [
        "# Tag source and prioritize current over historical\n",
        "#historical['source'] = 'historical'\n",
        "current['source'] = 'current'\n",
        "legislators = pd.concat([current, historical], ignore_index=True)\n"
      ]
    },
    {
      "cell_type": "markdown",
      "source": [],
      "metadata": {
        "id": "IEtlC0Fvkno_"
      },
      "id": "IEtlC0Fvkno_"
    },
    {
      "cell_type": "code",
      "execution_count": null,
      "id": "c98ce8ac-2181-4f1e-af72-ef609c8744fd",
      "metadata": {
        "id": "c98ce8ac-2181-4f1e-af72-ef609c8744fd"
      },
      "outputs": [],
      "source": [
        "# Clean name fields\n",
        "sponsorships['name_clean'] = sponsorships['name'].str.lower().str.strip()\n",
        "legislators['full_name_clean'] = legislators['full_name'].str.lower().str.strip()\n"
      ]
    },
    {
      "cell_type": "code",
      "execution_count": null,
      "id": "2bae0ab4-112a-4e92-af7d-9e78b48dbe72",
      "metadata": {
        "id": "2bae0ab4-112a-4e92-af7d-9e78b48dbe72"
      },
      "outputs": [],
      "source": [
        "# Fuzzy match names using rapidfuzz\n",
        "def fuzzy_merge_fast(df_1, df_2, key1, key2, threshold=85):\n",
        "    choices = df_2[key2].dropna().unique().tolist()\n",
        "    matches = df_1[key1].apply(\n",
        "        lambda x: process.extractOne(x, choices, scorer=fuzz.token_sort_ratio, score_cutoff=threshold)\n",
        "    )\n",
        "    df_1['matched_name'] = matches.apply(lambda x: x[0] if x else None)\n",
        "    return df_1\n",
        "\n",
        "sponsorships = fuzzy_merge_fast(sponsorships, legislators, 'name_clean', 'full_name_clean', threshold=85)\n"
      ]
    },
    {
      "cell_type": "code",
      "execution_count": null,
      "id": "f9db1d64-15c4-41a9-9b8c-ed7e5d10467d",
      "metadata": {
        "id": "f9db1d64-15c4-41a9-9b8c-ed7e5d10467d"
      },
      "outputs": [],
      "source": [
        "# Prepare unique legislator data, preferring current over historical\n",
        "legislators_unique = legislators.drop_duplicates(subset='full_name_clean', keep='first')\n"
      ]
    },
    {
      "cell_type": "code",
      "execution_count": null,
      "id": "67156f93-cbc4-48f2-8f36-86ff457b7d80",
      "metadata": {
        "id": "67156f93-cbc4-48f2-8f36-86ff457b7d80"
      },
      "outputs": [],
      "source": [
        "# Merge matched rows only with legislator data\n",
        "matched = sponsorships[sponsorships['matched_name'].notna()].copy()\n",
        "\n",
        "matched = matched.merge(\n",
        "    legislators_unique[['full_name_clean', 'bioguide_id', 'party', 'type', 'state', 'district']],\n",
        "    left_on='matched_name',\n",
        "    right_on='full_name_clean',\n",
        "    how='left'\n",
        ").drop(columns=['full_name_clean'])\n"
      ]
    },
    {
      "cell_type": "code",
      "execution_count": null,
      "id": "07df0ea9-291a-4674-abe0-f8f65f7d7513",
      "metadata": {
        "colab": {
          "base_uri": "https://localhost:8080/"
        },
        "id": "07df0ea9-291a-4674-abe0-f8f65f7d7513",
        "outputId": "c9ce5074-4cfb-4a17-e066-1171aa2cd074"
      },
      "outputs": [
        {
          "output_type": "stream",
          "name": "stderr",
          "text": [
            "<ipython-input-14-f741fa4471c0>:7: FutureWarning: The behavior of DataFrame concatenation with empty or all-NA entries is deprecated. In a future version, this will no longer exclude empty or all-NA columns when determining the result dtypes. To retain the old behavior, exclude the relevant entries before the concat operation.\n",
            "  final_df = pd.concat([matched, unmatched], ignore_index=True)\n"
          ]
        }
      ],
      "source": [
        "# Ensure unmatched rows still have the necessary columns\n",
        "unmatched = sponsorships[sponsorships['matched_name'].isna()].copy()\n",
        "for col in ['bioguide_id', 'party', 'type', 'state', 'district']:\n",
        "    unmatched[col] = None\n",
        "\n",
        "# Combine matched and unmatched rows\n",
        "final_df = pd.concat([matched, unmatched], ignore_index=True)\n"
      ]
    },
    {
      "cell_type": "code",
      "execution_count": null,
      "id": "4fda403b-18c2-4955-b49e-66096e147329",
      "metadata": {
        "colab": {
          "base_uri": "https://localhost:8080/",
          "height": 206
        },
        "id": "4fda403b-18c2-4955-b49e-66096e147329",
        "outputId": "c35d2d32-a1d7-46cb-d436-5896c4a317eb"
      },
      "outputs": [
        {
          "output_type": "execute_result",
          "data": {
            "text/plain": [
              "                       name                                        bill_id  \\\n",
              "0             Rashida Tlaib  ocd-bill/32113334-4552-4e28-b5d4-98645b93e445   \n",
              "1                Mark Pocan  ocd-bill/32113334-4552-4e28-b5d4-98645b93e445   \n",
              "2              Val T. Hoyle  ocd-bill/32113334-4552-4e28-b5d4-98645b93e445   \n",
              "3  JesÃºs G. \"Chuy\" GarcÃ­a  ocd-bill/32113334-4552-4e28-b5d4-98645b93e445   \n",
              "4                Paul Tonko  ocd-bill/32113334-4552-4e28-b5d4-98645b93e445   \n",
              "\n",
              "   primary classification            matched_name bioguide_id     party type  \\\n",
              "0     True        primary           rashida tlaib     T000481  Democrat  rep   \n",
              "1    False      cosponsor              mark pocan     P000607  Democrat  rep   \n",
              "2    False      cosponsor            val t. hoyle     H001094  Democrat  rep   \n",
              "3    False      cosponsor  jesús g. \"chuy\" garcía     G000586  Democrat  rep   \n",
              "4    False      cosponsor              paul tonko     T000469  Democrat  rep   \n",
              "\n",
              "  state  district  \n",
              "0    MI      12.0  \n",
              "1    WI       2.0  \n",
              "2    OR       4.0  \n",
              "3    IL       4.0  \n",
              "4    NY      20.0  "
            ],
            "text/html": [
              "\n",
              "  <div id=\"df-f894a1e6-2354-4c5b-af51-237584fc1da0\" class=\"colab-df-container\">\n",
              "    <div>\n",
              "<style scoped>\n",
              "    .dataframe tbody tr th:only-of-type {\n",
              "        vertical-align: middle;\n",
              "    }\n",
              "\n",
              "    .dataframe tbody tr th {\n",
              "        vertical-align: top;\n",
              "    }\n",
              "\n",
              "    .dataframe thead th {\n",
              "        text-align: right;\n",
              "    }\n",
              "</style>\n",
              "<table border=\"1\" class=\"dataframe\">\n",
              "  <thead>\n",
              "    <tr style=\"text-align: right;\">\n",
              "      <th></th>\n",
              "      <th>name</th>\n",
              "      <th>bill_id</th>\n",
              "      <th>primary</th>\n",
              "      <th>classification</th>\n",
              "      <th>matched_name</th>\n",
              "      <th>bioguide_id</th>\n",
              "      <th>party</th>\n",
              "      <th>type</th>\n",
              "      <th>state</th>\n",
              "      <th>district</th>\n",
              "    </tr>\n",
              "  </thead>\n",
              "  <tbody>\n",
              "    <tr>\n",
              "      <th>0</th>\n",
              "      <td>Rashida Tlaib</td>\n",
              "      <td>ocd-bill/32113334-4552-4e28-b5d4-98645b93e445</td>\n",
              "      <td>True</td>\n",
              "      <td>primary</td>\n",
              "      <td>rashida tlaib</td>\n",
              "      <td>T000481</td>\n",
              "      <td>Democrat</td>\n",
              "      <td>rep</td>\n",
              "      <td>MI</td>\n",
              "      <td>12.0</td>\n",
              "    </tr>\n",
              "    <tr>\n",
              "      <th>1</th>\n",
              "      <td>Mark Pocan</td>\n",
              "      <td>ocd-bill/32113334-4552-4e28-b5d4-98645b93e445</td>\n",
              "      <td>False</td>\n",
              "      <td>cosponsor</td>\n",
              "      <td>mark pocan</td>\n",
              "      <td>P000607</td>\n",
              "      <td>Democrat</td>\n",
              "      <td>rep</td>\n",
              "      <td>WI</td>\n",
              "      <td>2.0</td>\n",
              "    </tr>\n",
              "    <tr>\n",
              "      <th>2</th>\n",
              "      <td>Val T. Hoyle</td>\n",
              "      <td>ocd-bill/32113334-4552-4e28-b5d4-98645b93e445</td>\n",
              "      <td>False</td>\n",
              "      <td>cosponsor</td>\n",
              "      <td>val t. hoyle</td>\n",
              "      <td>H001094</td>\n",
              "      <td>Democrat</td>\n",
              "      <td>rep</td>\n",
              "      <td>OR</td>\n",
              "      <td>4.0</td>\n",
              "    </tr>\n",
              "    <tr>\n",
              "      <th>3</th>\n",
              "      <td>JesÃºs G. \"Chuy\" GarcÃ­a</td>\n",
              "      <td>ocd-bill/32113334-4552-4e28-b5d4-98645b93e445</td>\n",
              "      <td>False</td>\n",
              "      <td>cosponsor</td>\n",
              "      <td>jesús g. \"chuy\" garcía</td>\n",
              "      <td>G000586</td>\n",
              "      <td>Democrat</td>\n",
              "      <td>rep</td>\n",
              "      <td>IL</td>\n",
              "      <td>4.0</td>\n",
              "    </tr>\n",
              "    <tr>\n",
              "      <th>4</th>\n",
              "      <td>Paul Tonko</td>\n",
              "      <td>ocd-bill/32113334-4552-4e28-b5d4-98645b93e445</td>\n",
              "      <td>False</td>\n",
              "      <td>cosponsor</td>\n",
              "      <td>paul tonko</td>\n",
              "      <td>T000469</td>\n",
              "      <td>Democrat</td>\n",
              "      <td>rep</td>\n",
              "      <td>NY</td>\n",
              "      <td>20.0</td>\n",
              "    </tr>\n",
              "  </tbody>\n",
              "</table>\n",
              "</div>\n",
              "    <div class=\"colab-df-buttons\">\n",
              "\n",
              "  <div class=\"colab-df-container\">\n",
              "    <button class=\"colab-df-convert\" onclick=\"convertToInteractive('df-f894a1e6-2354-4c5b-af51-237584fc1da0')\"\n",
              "            title=\"Convert this dataframe to an interactive table.\"\n",
              "            style=\"display:none;\">\n",
              "\n",
              "  <svg xmlns=\"http://www.w3.org/2000/svg\" height=\"24px\" viewBox=\"0 -960 960 960\">\n",
              "    <path d=\"M120-120v-720h720v720H120Zm60-500h600v-160H180v160Zm220 220h160v-160H400v160Zm0 220h160v-160H400v160ZM180-400h160v-160H180v160Zm440 0h160v-160H620v160ZM180-180h160v-160H180v160Zm440 0h160v-160H620v160Z\"/>\n",
              "  </svg>\n",
              "    </button>\n",
              "\n",
              "  <style>\n",
              "    .colab-df-container {\n",
              "      display:flex;\n",
              "      gap: 12px;\n",
              "    }\n",
              "\n",
              "    .colab-df-convert {\n",
              "      background-color: #E8F0FE;\n",
              "      border: none;\n",
              "      border-radius: 50%;\n",
              "      cursor: pointer;\n",
              "      display: none;\n",
              "      fill: #1967D2;\n",
              "      height: 32px;\n",
              "      padding: 0 0 0 0;\n",
              "      width: 32px;\n",
              "    }\n",
              "\n",
              "    .colab-df-convert:hover {\n",
              "      background-color: #E2EBFA;\n",
              "      box-shadow: 0px 1px 2px rgba(60, 64, 67, 0.3), 0px 1px 3px 1px rgba(60, 64, 67, 0.15);\n",
              "      fill: #174EA6;\n",
              "    }\n",
              "\n",
              "    .colab-df-buttons div {\n",
              "      margin-bottom: 4px;\n",
              "    }\n",
              "\n",
              "    [theme=dark] .colab-df-convert {\n",
              "      background-color: #3B4455;\n",
              "      fill: #D2E3FC;\n",
              "    }\n",
              "\n",
              "    [theme=dark] .colab-df-convert:hover {\n",
              "      background-color: #434B5C;\n",
              "      box-shadow: 0px 1px 3px 1px rgba(0, 0, 0, 0.15);\n",
              "      filter: drop-shadow(0px 1px 2px rgba(0, 0, 0, 0.3));\n",
              "      fill: #FFFFFF;\n",
              "    }\n",
              "  </style>\n",
              "\n",
              "    <script>\n",
              "      const buttonEl =\n",
              "        document.querySelector('#df-f894a1e6-2354-4c5b-af51-237584fc1da0 button.colab-df-convert');\n",
              "      buttonEl.style.display =\n",
              "        google.colab.kernel.accessAllowed ? 'block' : 'none';\n",
              "\n",
              "      async function convertToInteractive(key) {\n",
              "        const element = document.querySelector('#df-f894a1e6-2354-4c5b-af51-237584fc1da0');\n",
              "        const dataTable =\n",
              "          await google.colab.kernel.invokeFunction('convertToInteractive',\n",
              "                                                    [key], {});\n",
              "        if (!dataTable) return;\n",
              "\n",
              "        const docLinkHtml = 'Like what you see? Visit the ' +\n",
              "          '<a target=\"_blank\" href=https://colab.research.google.com/notebooks/data_table.ipynb>data table notebook</a>'\n",
              "          + ' to learn more about interactive tables.';\n",
              "        element.innerHTML = '';\n",
              "        dataTable['output_type'] = 'display_data';\n",
              "        await google.colab.output.renderOutput(dataTable, element);\n",
              "        const docLink = document.createElement('div');\n",
              "        docLink.innerHTML = docLinkHtml;\n",
              "        element.appendChild(docLink);\n",
              "      }\n",
              "    </script>\n",
              "  </div>\n",
              "\n",
              "\n",
              "<div id=\"df-3af3b8b8-c7ac-4535-96f8-c437bfacd250\">\n",
              "  <button class=\"colab-df-quickchart\" onclick=\"quickchart('df-3af3b8b8-c7ac-4535-96f8-c437bfacd250')\"\n",
              "            title=\"Suggest charts\"\n",
              "            style=\"display:none;\">\n",
              "\n",
              "<svg xmlns=\"http://www.w3.org/2000/svg\" height=\"24px\"viewBox=\"0 0 24 24\"\n",
              "     width=\"24px\">\n",
              "    <g>\n",
              "        <path d=\"M19 3H5c-1.1 0-2 .9-2 2v14c0 1.1.9 2 2 2h14c1.1 0 2-.9 2-2V5c0-1.1-.9-2-2-2zM9 17H7v-7h2v7zm4 0h-2V7h2v10zm4 0h-2v-4h2v4z\"/>\n",
              "    </g>\n",
              "</svg>\n",
              "  </button>\n",
              "\n",
              "<style>\n",
              "  .colab-df-quickchart {\n",
              "      --bg-color: #E8F0FE;\n",
              "      --fill-color: #1967D2;\n",
              "      --hover-bg-color: #E2EBFA;\n",
              "      --hover-fill-color: #174EA6;\n",
              "      --disabled-fill-color: #AAA;\n",
              "      --disabled-bg-color: #DDD;\n",
              "  }\n",
              "\n",
              "  [theme=dark] .colab-df-quickchart {\n",
              "      --bg-color: #3B4455;\n",
              "      --fill-color: #D2E3FC;\n",
              "      --hover-bg-color: #434B5C;\n",
              "      --hover-fill-color: #FFFFFF;\n",
              "      --disabled-bg-color: #3B4455;\n",
              "      --disabled-fill-color: #666;\n",
              "  }\n",
              "\n",
              "  .colab-df-quickchart {\n",
              "    background-color: var(--bg-color);\n",
              "    border: none;\n",
              "    border-radius: 50%;\n",
              "    cursor: pointer;\n",
              "    display: none;\n",
              "    fill: var(--fill-color);\n",
              "    height: 32px;\n",
              "    padding: 0;\n",
              "    width: 32px;\n",
              "  }\n",
              "\n",
              "  .colab-df-quickchart:hover {\n",
              "    background-color: var(--hover-bg-color);\n",
              "    box-shadow: 0 1px 2px rgba(60, 64, 67, 0.3), 0 1px 3px 1px rgba(60, 64, 67, 0.15);\n",
              "    fill: var(--button-hover-fill-color);\n",
              "  }\n",
              "\n",
              "  .colab-df-quickchart-complete:disabled,\n",
              "  .colab-df-quickchart-complete:disabled:hover {\n",
              "    background-color: var(--disabled-bg-color);\n",
              "    fill: var(--disabled-fill-color);\n",
              "    box-shadow: none;\n",
              "  }\n",
              "\n",
              "  .colab-df-spinner {\n",
              "    border: 2px solid var(--fill-color);\n",
              "    border-color: transparent;\n",
              "    border-bottom-color: var(--fill-color);\n",
              "    animation:\n",
              "      spin 1s steps(1) infinite;\n",
              "  }\n",
              "\n",
              "  @keyframes spin {\n",
              "    0% {\n",
              "      border-color: transparent;\n",
              "      border-bottom-color: var(--fill-color);\n",
              "      border-left-color: var(--fill-color);\n",
              "    }\n",
              "    20% {\n",
              "      border-color: transparent;\n",
              "      border-left-color: var(--fill-color);\n",
              "      border-top-color: var(--fill-color);\n",
              "    }\n",
              "    30% {\n",
              "      border-color: transparent;\n",
              "      border-left-color: var(--fill-color);\n",
              "      border-top-color: var(--fill-color);\n",
              "      border-right-color: var(--fill-color);\n",
              "    }\n",
              "    40% {\n",
              "      border-color: transparent;\n",
              "      border-right-color: var(--fill-color);\n",
              "      border-top-color: var(--fill-color);\n",
              "    }\n",
              "    60% {\n",
              "      border-color: transparent;\n",
              "      border-right-color: var(--fill-color);\n",
              "    }\n",
              "    80% {\n",
              "      border-color: transparent;\n",
              "      border-right-color: var(--fill-color);\n",
              "      border-bottom-color: var(--fill-color);\n",
              "    }\n",
              "    90% {\n",
              "      border-color: transparent;\n",
              "      border-bottom-color: var(--fill-color);\n",
              "    }\n",
              "  }\n",
              "</style>\n",
              "\n",
              "  <script>\n",
              "    async function quickchart(key) {\n",
              "      const quickchartButtonEl =\n",
              "        document.querySelector('#' + key + ' button');\n",
              "      quickchartButtonEl.disabled = true;  // To prevent multiple clicks.\n",
              "      quickchartButtonEl.classList.add('colab-df-spinner');\n",
              "      try {\n",
              "        const charts = await google.colab.kernel.invokeFunction(\n",
              "            'suggestCharts', [key], {});\n",
              "      } catch (error) {\n",
              "        console.error('Error during call to suggestCharts:', error);\n",
              "      }\n",
              "      quickchartButtonEl.classList.remove('colab-df-spinner');\n",
              "      quickchartButtonEl.classList.add('colab-df-quickchart-complete');\n",
              "    }\n",
              "    (() => {\n",
              "      let quickchartButtonEl =\n",
              "        document.querySelector('#df-3af3b8b8-c7ac-4535-96f8-c437bfacd250 button');\n",
              "      quickchartButtonEl.style.display =\n",
              "        google.colab.kernel.accessAllowed ? 'block' : 'none';\n",
              "    })();\n",
              "  </script>\n",
              "</div>\n",
              "\n",
              "    </div>\n",
              "  </div>\n"
            ],
            "application/vnd.google.colaboratory.intrinsic+json": {
              "type": "dataframe",
              "summary": "{\n  \"name\": \"final_df[output_cols]\",\n  \"rows\": 5,\n  \"fields\": [\n    {\n      \"column\": \"name\",\n      \"properties\": {\n        \"dtype\": \"string\",\n        \"num_unique_values\": 5,\n        \"samples\": [\n          \"Mark Pocan\",\n          \"Paul Tonko\",\n          \"Val T. Hoyle\"\n        ],\n        \"semantic_type\": \"\",\n        \"description\": \"\"\n      }\n    },\n    {\n      \"column\": \"bill_id\",\n      \"properties\": {\n        \"dtype\": \"category\",\n        \"num_unique_values\": 1,\n        \"samples\": [\n          \"ocd-bill/32113334-4552-4e28-b5d4-98645b93e445\"\n        ],\n        \"semantic_type\": \"\",\n        \"description\": \"\"\n      }\n    },\n    {\n      \"column\": \"primary\",\n      \"properties\": {\n        \"dtype\": \"boolean\",\n        \"num_unique_values\": 2,\n        \"samples\": [\n          false\n        ],\n        \"semantic_type\": \"\",\n        \"description\": \"\"\n      }\n    },\n    {\n      \"column\": \"classification\",\n      \"properties\": {\n        \"dtype\": \"category\",\n        \"num_unique_values\": 2,\n        \"samples\": [\n          \"cosponsor\"\n        ],\n        \"semantic_type\": \"\",\n        \"description\": \"\"\n      }\n    },\n    {\n      \"column\": \"matched_name\",\n      \"properties\": {\n        \"dtype\": \"string\",\n        \"num_unique_values\": 5,\n        \"samples\": [\n          \"mark pocan\"\n        ],\n        \"semantic_type\": \"\",\n        \"description\": \"\"\n      }\n    },\n    {\n      \"column\": \"bioguide_id\",\n      \"properties\": {\n        \"dtype\": \"string\",\n        \"num_unique_values\": 5,\n        \"samples\": [\n          \"P000607\"\n        ],\n        \"semantic_type\": \"\",\n        \"description\": \"\"\n      }\n    },\n    {\n      \"column\": \"party\",\n      \"properties\": {\n        \"dtype\": \"category\",\n        \"num_unique_values\": 1,\n        \"samples\": [\n          \"Democrat\"\n        ],\n        \"semantic_type\": \"\",\n        \"description\": \"\"\n      }\n    },\n    {\n      \"column\": \"type\",\n      \"properties\": {\n        \"dtype\": \"category\",\n        \"num_unique_values\": 1,\n        \"samples\": [\n          \"rep\"\n        ],\n        \"semantic_type\": \"\",\n        \"description\": \"\"\n      }\n    },\n    {\n      \"column\": \"state\",\n      \"properties\": {\n        \"dtype\": \"string\",\n        \"num_unique_values\": 5,\n        \"samples\": [\n          \"WI\"\n        ],\n        \"semantic_type\": \"\",\n        \"description\": \"\"\n      }\n    },\n    {\n      \"column\": \"district\",\n      \"properties\": {\n        \"dtype\": \"number\",\n        \"std\": 7.536577472566709,\n        \"min\": 2.0,\n        \"max\": 20.0,\n        \"num_unique_values\": 4,\n        \"samples\": [\n          2.0\n        ],\n        \"semantic_type\": \"\",\n        \"description\": \"\"\n      }\n    }\n  ]\n}"
            }
          },
          "metadata": {},
          "execution_count": 15
        }
      ],
      "source": [
        "# Save final result with required columns\n",
        "output_cols = [\n",
        "    'name', 'bill_id', 'primary', 'classification',\n",
        "    'matched_name', 'bioguide_id', 'party', 'type', 'state', 'district'\n",
        "]\n",
        "\n",
        "final_df[output_cols].to_csv(\"/content/drive/My Drive/Colab Notebooks/merged_bill_sponsorships.csv\", index=False)\n",
        "final_df[output_cols].head()\n"
      ]
    },
    {
      "cell_type": "code",
      "execution_count": null,
      "id": "9b30c2bc-8242-470c-b8d5-ebd7aeaaefe7",
      "metadata": {
        "id": "9b30c2bc-8242-470c-b8d5-ebd7aeaaefe7"
      },
      "outputs": [],
      "source": []
    },
    {
      "cell_type": "markdown",
      "id": "a068811d-986e-4cbe-af6f-bcd418630ae8",
      "metadata": {
        "id": "a068811d-986e-4cbe-af6f-bcd418630ae8"
      },
      "source": [
        "THE BELOW CODE IS USED TO DETERMINE AUTHOR BILLS WITH BIPARTISAN SPONSOR (authors of bills with cross-party co-sponsors)\n",
        "\n"
      ]
    },
    {
      "cell_type": "code",
      "execution_count": null,
      "id": "8b8bc232-a556-4918-beff-37dc1e619073",
      "metadata": {
        "id": "8b8bc232-a556-4918-beff-37dc1e619073"
      },
      "outputs": [],
      "source": []
    },
    {
      "cell_type": "code",
      "execution_count": null,
      "id": "7ee8f934-56a3-4444-89fe-d5b979181901",
      "metadata": {
        "id": "7ee8f934-56a3-4444-89fe-d5b979181901"
      },
      "outputs": [],
      "source": [
        "df = pd.read_csv(\"/content/drive/My Drive/Colab Notebooks/merged_bill_sponsorships.csv\",  encoding=\"latin1\")"
      ]
    },
    {
      "cell_type": "code",
      "execution_count": null,
      "id": "66cb019c-3fd1-4ad2-a7b6-69176c507085",
      "metadata": {
        "id": "66cb019c-3fd1-4ad2-a7b6-69176c507085"
      },
      "outputs": [],
      "source": [
        "# Drop rows with missing party information\n",
        "df = df.dropna(subset=['party'])"
      ]
    },
    {
      "cell_type": "code",
      "execution_count": null,
      "id": "97aed1aa-9957-4c78-81c8-b09954de7e64",
      "metadata": {
        "id": "97aed1aa-9957-4c78-81c8-b09954de7e64"
      },
      "outputs": [],
      "source": [
        "# Get primary sponsors\n",
        "primary_df = df[df['classification'] == 'primary'][['bill_id', 'name', 'party', 'bioguide_id']]\n",
        "primary_df = primary_df.rename(columns={\n",
        "    'name': 'primary_name',\n",
        "    'party': 'primary_party',\n",
        "    'bioguide_id': 'primary_bioguide_id'\n",
        "})"
      ]
    },
    {
      "cell_type": "code",
      "execution_count": null,
      "id": "0375cccf-0b17-450b-b746-6d5693cd2df5",
      "metadata": {
        "id": "0375cccf-0b17-450b-b746-6d5693cd2df5"
      },
      "outputs": [],
      "source": [
        "# Get cosponsors\n",
        "cosponsor_df = df[df['classification'] == 'cosponsor'][['bill_id', 'name', 'party']]"
      ]
    },
    {
      "cell_type": "code",
      "execution_count": null,
      "id": "89e8b3f7-60ee-4179-a6cc-fdbf35437ee6",
      "metadata": {
        "id": "89e8b3f7-60ee-4179-a6cc-fdbf35437ee6"
      },
      "outputs": [],
      "source": [
        "# Merge cosponsors with their bill's primary sponsor\n",
        "merged_df = cosponsor_df.merge(primary_df, on='bill_id', how='left')"
      ]
    },
    {
      "cell_type": "code",
      "execution_count": null,
      "id": "fa4ccab3-d209-488a-a809-f76d439f5af8",
      "metadata": {
        "id": "fa4ccab3-d209-488a-a809-f76d439f5af8"
      },
      "outputs": [],
      "source": [
        "# Check if cosponsor is from a different party\n",
        "merged_df['different_party'] = merged_df['party'] != merged_df['primary_party']"
      ]
    },
    {
      "cell_type": "code",
      "execution_count": null,
      "id": "651a3bdd-afb1-4df1-87d4-a455d87e756d",
      "metadata": {
        "id": "651a3bdd-afb1-4df1-87d4-a455d87e756d"
      },
      "outputs": [],
      "source": [
        "# Identify all primary sponsors (even with 0 cross-party cosponsors)\n",
        "all_primary_sponsors = primary_df[['primary_name', 'primary_bioguide_id']].drop_duplicates()"
      ]
    },
    {
      "cell_type": "code",
      "execution_count": null,
      "id": "e66fbd63-9aa4-4bea-875a-1657561fb5ef",
      "metadata": {
        "id": "e66fbd63-9aa4-4bea-875a-1657561fb5ef"
      },
      "outputs": [],
      "source": [
        "# Find bills with at least one cross-party cosponsor\n",
        "bills_with_diff_party = merged_df[merged_df['different_party']][['bill_id', 'primary_name', 'primary_bioguide_id']].drop_duplicates()"
      ]
    },
    {
      "cell_type": "code",
      "execution_count": null,
      "id": "d0233dcd-2a12-4d0f-b6a1-8e14a3e56840",
      "metadata": {
        "id": "d0233dcd-2a12-4d0f-b6a1-8e14a3e56840"
      },
      "outputs": [],
      "source": [
        "# Count per primary sponsor\n",
        "cross_party_counts = bills_with_diff_party.groupby(['primary_name', 'primary_bioguide_id']).size().reset_index(name='num_bills_with_cross_party_cosponsors')"
      ]
    },
    {
      "cell_type": "code",
      "execution_count": null,
      "id": "237bb85c-b435-436d-be44-225a216ab940",
      "metadata": {
        "id": "237bb85c-b435-436d-be44-225a216ab940"
      },
      "outputs": [],
      "source": [
        "# Merge to include 0s\n",
        "result = all_primary_sponsors.merge(cross_party_counts, on=['primary_name', 'primary_bioguide_id'], how='left')\n",
        "result['num_bills_with_cross_party_cosponsors'] = result['num_bills_with_cross_party_cosponsors'].fillna(0).astype(int)"
      ]
    },
    {
      "cell_type": "code",
      "execution_count": null,
      "id": "711da17a-52c1-4e62-b365-4e625290dd63",
      "metadata": {
        "id": "711da17a-52c1-4e62-b365-4e625290dd63"
      },
      "outputs": [],
      "source": [
        "# Sort by count and assign rank\n",
        "ranked_result = result.sort_values(by='num_bills_with_cross_party_cosponsors', ascending=False).reset_index(drop=True)\n",
        "ranked_result['rank'] = ranked_result.index + 1"
      ]
    },
    {
      "cell_type": "code",
      "execution_count": null,
      "id": "e42d52c3-e78a-4a4c-81fe-b12cdc0ce681",
      "metadata": {
        "colab": {
          "base_uri": "https://localhost:8080/"
        },
        "id": "e42d52c3-e78a-4a4c-81fe-b12cdc0ce681",
        "outputId": "5ecd02d6-4d85-4d70-94ad-18536f3eb397"
      },
      "outputs": [
        {
          "output_type": "stream",
          "name": "stdout",
          "text": [
            "                 primary_name primary_bioguide_id  \\\n",
            "0               Amy Klobuchar             K000367   \n",
            "1        Brian K. Fitzpatrick             F000466   \n",
            "2            Marsha Blackburn             B001243   \n",
            "3      Catherine Cortez Masto             C001113   \n",
            "4               Vern Buchanan             B001260   \n",
            "..                        ...                 ...   \n",
            "491                Cory Mills             M001216   \n",
            "492                  Dave Min             M001241   \n",
            "493  Nanette Diaz BarragÃÂ¡n             B001300   \n",
            "494           Robert F. Onder             O000177   \n",
            "495             Rashida Tlaib             T000481   \n",
            "\n",
            "     num_bills_with_cross_party_cosponsors  rank  \n",
            "0                                       22     1  \n",
            "1                                       21     2  \n",
            "2                                       21     3  \n",
            "3                                       18     4  \n",
            "4                                       18     5  \n",
            "..                                     ...   ...  \n",
            "491                                      0   492  \n",
            "492                                      0   493  \n",
            "493                                      0   494  \n",
            "494                                      0   495  \n",
            "495                                      0   496  \n",
            "\n",
            "[496 rows x 4 columns]\n"
          ]
        }
      ],
      "source": [
        "# Show result\n",
        "print(ranked_result)\n",
        "ranked_result.to_csv(\"/content/drive/My Drive/Colab Notebooks/ranked_cross_party_sponsorships.csv\", index=False)"
      ]
    },
    {
      "cell_type": "code",
      "execution_count": null,
      "id": "4ab5ba0f-831c-4ad0-b55f-545b0114cfbd",
      "metadata": {
        "id": "4ab5ba0f-831c-4ad0-b55f-545b0114cfbd"
      },
      "outputs": [],
      "source": []
    },
    {
      "cell_type": "markdown",
      "id": "3480b457-48bd-489d-89db-3948e04e3f0f",
      "metadata": {
        "id": "3480b457-48bd-489d-89db-3948e04e3f0f"
      },
      "source": [
        "THE BELOW CODE IS FOR EACH REPRESENTATIVE, HOW MANY BILLS THEY HAVE COSPONSORED WHERE THE PRIMARY SPONSOR IS FROM THE OPPOSITE PARTY(cosponsors of bills by other party)"
      ]
    },
    {
      "cell_type": "code",
      "execution_count": null,
      "id": "6f878972-a28d-40cd-aacc-c2608d2f1c87",
      "metadata": {
        "id": "6f878972-a28d-40cd-aacc-c2608d2f1c87"
      },
      "outputs": [],
      "source": []
    },
    {
      "cell_type": "code",
      "execution_count": null,
      "id": "9670a1ab-edd2-4c79-86a1-e9243aaa4f21",
      "metadata": {
        "id": "9670a1ab-edd2-4c79-86a1-e9243aaa4f21"
      },
      "outputs": [],
      "source": [
        "# Load the dataset\n",
        "df = pd.read_csv(\"/content/drive/My Drive/Colab Notebooks/merged_bill_sponsorships.csv\",  encoding=\"latin1\")"
      ]
    },
    {
      "cell_type": "code",
      "execution_count": null,
      "id": "bac3c04a-f69b-4190-89ff-84ed2c482e58",
      "metadata": {
        "id": "bac3c04a-f69b-4190-89ff-84ed2c482e58"
      },
      "outputs": [],
      "source": [
        "# Drop rows with missing party info\n",
        "df = df.dropna(subset=['party'])"
      ]
    },
    {
      "cell_type": "code",
      "execution_count": null,
      "id": "4d35ec4e-2390-424f-927d-67af3e7d2e71",
      "metadata": {
        "id": "4d35ec4e-2390-424f-927d-67af3e7d2e71"
      },
      "outputs": [],
      "source": [
        "# Get primary sponsors\n",
        "primary_df = df[df['classification'] == 'primary'][['bill_id', 'party']]\n",
        "primary_df = primary_df.rename(columns={'party': 'primary_party'})"
      ]
    },
    {
      "cell_type": "code",
      "execution_count": null,
      "id": "c96e230c-7822-4f8b-be4f-69d56ac8a5aa",
      "metadata": {
        "id": "c96e230c-7822-4f8b-be4f-69d56ac8a5aa"
      },
      "outputs": [],
      "source": [
        "# Get cosponsors (with name + bioguide_id)\n",
        "cosponsor_df = df[df['classification'] == 'cosponsor'][['bill_id', 'name', 'party', 'bioguide_id']]\n"
      ]
    },
    {
      "cell_type": "code",
      "execution_count": null,
      "id": "034a70bf-a752-4c50-85f8-d5d2fce4c5ba",
      "metadata": {
        "id": "034a70bf-a752-4c50-85f8-d5d2fce4c5ba"
      },
      "outputs": [],
      "source": [
        "# Merge cosponsors with primary sponsor info\n",
        "merged_df = cosponsor_df.merge(primary_df, on='bill_id', how='left')"
      ]
    },
    {
      "cell_type": "code",
      "execution_count": null,
      "id": "ea46b5af-283e-4b97-ac6d-886401b5f6d4",
      "metadata": {
        "id": "ea46b5af-283e-4b97-ac6d-886401b5f6d4"
      },
      "outputs": [],
      "source": [
        "# Check if cosponsor is from a different party\n",
        "merged_df['different_party'] = merged_df['party'] != merged_df['primary_party']"
      ]
    },
    {
      "cell_type": "code",
      "execution_count": null,
      "id": "79b92a2c-5708-4ef2-b775-6a7d8eb78e97",
      "metadata": {
        "id": "79b92a2c-5708-4ef2-b775-6a7d8eb78e97"
      },
      "outputs": [],
      "source": [
        "# Get all cosponsors (even those with 0 cross-party cases)\n",
        "all_cosponsors = cosponsor_df[['name', 'bioguide_id']].drop_duplicates()"
      ]
    },
    {
      "cell_type": "code",
      "execution_count": null,
      "id": "a033e425-fb6e-4821-9bf3-b5fb86544048",
      "metadata": {
        "id": "a033e425-fb6e-4821-9bf3-b5fb86544048"
      },
      "outputs": [],
      "source": [
        "# Get counts of cross-party cosponsorships\n",
        "cross_party_df = merged_df[merged_df['different_party']][['name', 'bioguide_id', 'bill_id']].drop_duplicates()\n",
        "cross_party_counts = cross_party_df.groupby(['name', 'bioguide_id']).size().reset_index(name='num_cross_party_cosponsored_bills')"
      ]
    },
    {
      "cell_type": "code",
      "execution_count": null,
      "id": "6535fd9c-c3f1-40f3-a7d2-7e4ffd521f41",
      "metadata": {
        "id": "6535fd9c-c3f1-40f3-a7d2-7e4ffd521f41"
      },
      "outputs": [],
      "source": [
        "# Merge to include cosponsors with 0 counts\n",
        "result = all_cosponsors.merge(cross_party_counts, on=['name', 'bioguide_id'], how='left')\n",
        "result['num_cross_party_cosponsored_bills'] = result['num_cross_party_cosponsored_bills'].fillna(0).astype(int)"
      ]
    },
    {
      "cell_type": "code",
      "execution_count": null,
      "id": "0d724d20-6cdc-4580-be89-d831fde101ed",
      "metadata": {
        "id": "0d724d20-6cdc-4580-be89-d831fde101ed"
      },
      "outputs": [],
      "source": [
        "# Sort by count\n",
        "ranked_result = result.sort_values(by='num_cross_party_cosponsored_bills', ascending=False).reset_index(drop=True)"
      ]
    },
    {
      "cell_type": "code",
      "execution_count": null,
      "id": "b029cca7-c1de-459f-bc15-f983b4d0fe1e",
      "metadata": {
        "colab": {
          "base_uri": "https://localhost:8080/"
        },
        "id": "b029cca7-c1de-459f-bc15-f983b4d0fe1e",
        "outputId": "9818ac6d-cabd-481d-b4ca-f6aac7149879"
      },
      "outputs": [
        {
          "output_type": "stream",
          "name": "stdout",
          "text": [
            "                     name bioguide_id  num_cross_party_cosponsored_bills\n",
            "0    Brian K. Fitzpatrick     F000466                                182\n",
            "1         Donald G. Davis     D000230                                109\n",
            "2           Jimmy Panetta     P000613                                 92\n",
            "3          Michael Lawler     L000599                                 64\n",
            "4           Amy Klobuchar     K000367                                 61\n",
            "..                    ...         ...                                ...\n",
            "527    Katherine M. Clark     C001101                                  0\n",
            "528     Elise M. Stefanik     S001196                                  0\n",
            "529          Ashley Moody     M001244                                  0\n",
            "530         Steve Scalise     S001176                                  0\n",
            "531          Mike Johnson     J000299                                  0\n",
            "\n",
            "[532 rows x 3 columns]\n"
          ]
        }
      ],
      "source": [
        "# Save to CSV\n",
        "ranked_result.to_csv(\"/content/drive/My Drive/Colab Notebooks/ranked_cosponsors_cross_party_bills.csv\", index=False)\n",
        "print(ranked_result)"
      ]
    },
    {
      "cell_type": "code",
      "execution_count": null,
      "id": "5c98ca12-f58b-41cc-9fc4-2a03a07d9139",
      "metadata": {
        "id": "5c98ca12-f58b-41cc-9fc4-2a03a07d9139"
      },
      "outputs": [],
      "source": []
    },
    {
      "cell_type": "code",
      "execution_count": null,
      "id": "cd8615a4-38a1-42e9-9495-5a91243f62fc",
      "metadata": {
        "id": "cd8615a4-38a1-42e9-9495-5a91243f62fc"
      },
      "outputs": [],
      "source": []
    },
    {
      "cell_type": "code",
      "execution_count": null,
      "id": "dd8eba50-00e8-4e01-9c08-affe4c3c86db",
      "metadata": {
        "id": "dd8eba50-00e8-4e01-9c08-affe4c3c86db"
      },
      "outputs": [],
      "source": []
    }
  ],
  "metadata": {
    "kernelspec": {
      "display_name": "Python 3 (ipykernel)",
      "language": "python",
      "name": "python3"
    },
    "language_info": {
      "codemirror_mode": {
        "name": "ipython",
        "version": 3
      },
      "file_extension": ".py",
      "mimetype": "text/x-python",
      "name": "python",
      "nbconvert_exporter": "python",
      "pygments_lexer": "ipython3",
      "version": "3.12.7"
    },
    "colab": {
      "provenance": []
    }
  },
  "nbformat": 4,
  "nbformat_minor": 5
}